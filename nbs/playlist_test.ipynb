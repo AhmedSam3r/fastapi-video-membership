{
 "cells": [
  {
   "cell_type": "code",
   "execution_count": 31,
   "id": "72a3ccac-cfc4-42fc-85e6-6a80965ef312",
   "metadata": {},
   "outputs": [
    {
     "name": "stdout",
     "output_type": "stream",
     "text": [
      "/home/ahmed/development/fastpi_course\n"
     ]
    }
   ],
   "source": [
    "%cd /home/ahmed/development/fastpi_course"
   ]
  },
  {
   "cell_type": "code",
   "execution_count": 32,
   "id": "4f2b3b9b-19ae-41fc-876d-29062fc14c26",
   "metadata": {},
   "outputs": [],
   "source": [
    "from app import db, config\n",
    "from cassandra.cqlengine.management import sync_table\n",
    "from app.users.models import User\n",
    "from app.videos.models import Video\n",
    "from app.playlists.models import Playlist"
   ]
  },
  {
   "cell_type": "code",
   "execution_count": 35,
   "id": "da6f25c0-a61f-4a7d-b6a3-a32870cbdc95",
   "metadata": {},
   "outputs": [],
   "source": [
    "db.get_session()\n",
    "sync_table(User)\n",
    "sync_table(Video)\n"
   ]
  },
  {
   "cell_type": "code",
   "execution_count": 36,
   "id": "f035d17a-ef75-45f0-ad0e-83047fc94858",
   "metadata": {},
   "outputs": [],
   "source": [
    "settings = config.get_settings()\n",
    "keyspace = settings.astradb_keyspace"
   ]
  },
  {
   "cell_type": "code",
   "execution_count": 37,
   "id": "d40032d8-c82f-4114-98aa-f74056c763a7",
   "metadata": {},
   "outputs": [
    {
     "data": {
      "text/plain": [
       "<cassandra.cluster.ResultSet at 0x7efc041fe9b0>"
      ]
     },
     "execution_count": 37,
     "metadata": {},
     "output_type": "execute_result"
    }
   ],
   "source": [
    "session.execute(f\"DROP TABLE IF EXISTS {keyspace}.playlist\")"
   ]
  },
  {
   "cell_type": "code",
   "execution_count": 39,
   "id": "0efa7ceb-039b-4b1a-b449-2277cc555640",
   "metadata": {},
   "outputs": [
    {
     "ename": "OperationTimedOut",
     "evalue": "errors={'ede29ac9-55c8-40e6-82b9-8d68e1e892b8-us-east1.db.astra.datastax.com:29042:d7e366c2-6f0c-450c-9d74-fa44fc71b4ae': 'Client request timeout. See Session.execute[_async](timeout)'}, last_host=ede29ac9-55c8-40e6-82b9-8d68e1e892b8-us-east1.db.astra.datastax.com:29042:d7e366c2-6f0c-450c-9d74-fa44fc71b4ae",
     "output_type": "error",
     "traceback": [
      "\u001b[0;31m---------------------------------------------------------------------------\u001b[0m",
      "\u001b[0;31mOperationTimedOut\u001b[0m                         Traceback (most recent call last)",
      "Cell \u001b[0;32mIn[39], line 1\u001b[0m\n\u001b[0;32m----> 1\u001b[0m \u001b[43msync_table\u001b[49m\u001b[43m(\u001b[49m\u001b[43mPlaylist\u001b[49m\u001b[43m)\u001b[49m\n",
      "File \u001b[0;32m~/development/fastpi_course/venv/lib/python3.10/site-packages/cassandra/cqlengine/management.py:190\u001b[0m, in \u001b[0;36msync_table\u001b[0;34m(model, keyspaces, connections)\u001b[0m\n\u001b[1;32m    188\u001b[0m \u001b[38;5;28;01mfor\u001b[39;00m connection, keyspace \u001b[38;5;129;01min\u001b[39;00m context:\n\u001b[1;32m    189\u001b[0m     \u001b[38;5;28;01mwith\u001b[39;00m query\u001b[38;5;241m.\u001b[39mContextQuery(model, keyspace\u001b[38;5;241m=\u001b[39mkeyspace) \u001b[38;5;28;01mas\u001b[39;00m m:\n\u001b[0;32m--> 190\u001b[0m         \u001b[43m_sync_table\u001b[49m\u001b[43m(\u001b[49m\u001b[43mm\u001b[49m\u001b[43m,\u001b[49m\u001b[43m \u001b[49m\u001b[43mconnection\u001b[49m\u001b[38;5;241;43m=\u001b[39;49m\u001b[43mconnection\u001b[49m\u001b[43m)\u001b[49m\n",
      "File \u001b[0;32m~/development/fastpi_course/venv/lib/python3.10/site-packages/cassandra/cqlengine/management.py:231\u001b[0m, in \u001b[0;36m_sync_table\u001b[0;34m(model, connection)\u001b[0m\n\u001b[1;32m    228\u001b[0m qs \u001b[38;5;241m=\u001b[39m _get_create_table(model)\n\u001b[1;32m    230\u001b[0m \u001b[38;5;28;01mtry\u001b[39;00m:\n\u001b[0;32m--> 231\u001b[0m     \u001b[43mexecute\u001b[49m\u001b[43m(\u001b[49m\u001b[43mqs\u001b[49m\u001b[43m,\u001b[49m\u001b[43m \u001b[49m\u001b[43mconnection\u001b[49m\u001b[38;5;241;43m=\u001b[39;49m\u001b[43mconnection\u001b[49m\u001b[43m)\u001b[49m\n\u001b[1;32m    232\u001b[0m \u001b[38;5;28;01mexcept\u001b[39;00m CQLEngineException \u001b[38;5;28;01mas\u001b[39;00m ex:\n\u001b[1;32m    233\u001b[0m     \u001b[38;5;66;03m# 1.2 doesn't return cf names, so we have to examine the exception\u001b[39;00m\n\u001b[1;32m    234\u001b[0m     \u001b[38;5;66;03m# and ignore if it says the column family already exists\u001b[39;00m\n\u001b[1;32m    235\u001b[0m     \u001b[38;5;28;01mif\u001b[39;00m \u001b[38;5;124m\"\u001b[39m\u001b[38;5;124mCannot add already existing column family\u001b[39m\u001b[38;5;124m\"\u001b[39m \u001b[38;5;129;01mnot\u001b[39;00m \u001b[38;5;129;01min\u001b[39;00m six\u001b[38;5;241m.\u001b[39mtext_type(ex):\n",
      "File \u001b[0;32m~/development/fastpi_course/venv/lib/python3.10/site-packages/cassandra/cqlengine/connection.py:355\u001b[0m, in \u001b[0;36mexecute\u001b[0;34m(query, params, consistency_level, timeout, connection)\u001b[0m\n\u001b[1;32m    352\u001b[0m     query \u001b[38;5;241m=\u001b[39m SimpleStatement(query, consistency_level\u001b[38;5;241m=\u001b[39mconsistency_level)\n\u001b[1;32m    353\u001b[0m log\u001b[38;5;241m.\u001b[39mdebug(format_log_context(\u001b[38;5;124m'\u001b[39m\u001b[38;5;124mQuery: \u001b[39m\u001b[38;5;132;01m{}\u001b[39;00m\u001b[38;5;124m, Params: \u001b[39m\u001b[38;5;132;01m{}\u001b[39;00m\u001b[38;5;124m'\u001b[39m\u001b[38;5;241m.\u001b[39mformat(query\u001b[38;5;241m.\u001b[39mquery_string, params), connection\u001b[38;5;241m=\u001b[39mconnection))\n\u001b[0;32m--> 355\u001b[0m result \u001b[38;5;241m=\u001b[39m \u001b[43mconn\u001b[49m\u001b[38;5;241;43m.\u001b[39;49m\u001b[43msession\u001b[49m\u001b[38;5;241;43m.\u001b[39;49m\u001b[43mexecute\u001b[49m\u001b[43m(\u001b[49m\u001b[43mquery\u001b[49m\u001b[43m,\u001b[49m\u001b[43m \u001b[49m\u001b[43mparams\u001b[49m\u001b[43m,\u001b[49m\u001b[43m \u001b[49m\u001b[43mtimeout\u001b[49m\u001b[38;5;241;43m=\u001b[39;49m\u001b[43mtimeout\u001b[49m\u001b[43m)\u001b[49m\n\u001b[1;32m    357\u001b[0m \u001b[38;5;28;01mreturn\u001b[39;00m result\n",
      "File \u001b[0;32m~/development/fastpi_course/venv/lib/python3.10/site-packages/cassandra/cluster.py:2637\u001b[0m, in \u001b[0;36mcassandra.cluster.Session.execute\u001b[0;34m()\u001b[0m\n",
      "File \u001b[0;32m~/development/fastpi_course/venv/lib/python3.10/site-packages/cassandra/cluster.py:4920\u001b[0m, in \u001b[0;36mcassandra.cluster.ResponseFuture.result\u001b[0;34m()\u001b[0m\n",
      "\u001b[0;31mOperationTimedOut\u001b[0m: errors={'ede29ac9-55c8-40e6-82b9-8d68e1e892b8-us-east1.db.astra.datastax.com:29042:d7e366c2-6f0c-450c-9d74-fa44fc71b4ae': 'Client request timeout. See Session.execute[_async](timeout)'}, last_host=ede29ac9-55c8-40e6-82b9-8d68e1e892b8-us-east1.db.astra.datastax.com:29042:d7e366c2-6f0c-450c-9d74-fa44fc71b4ae"
     ]
    }
   ],
   "source": [
    "sync_table(Playlist)"
   ]
  },
  {
   "cell_type": "code",
   "execution_count": null,
   "id": "324064a7-0f19-4ae1-b875-a6bb8b8c5eb3",
   "metadata": {},
   "outputs": [],
   "source": [
    "    "
   ]
  }
 ],
 "metadata": {
  "kernelspec": {
   "display_name": "Python 3 (ipykernel)",
   "language": "python",
   "name": "python3"
  },
  "language_info": {
   "codemirror_mode": {
    "name": "ipython",
    "version": 3
   },
   "file_extension": ".py",
   "mimetype": "text/x-python",
   "name": "python",
   "nbconvert_exporter": "python",
   "pygments_lexer": "ipython3",
   "version": "3.10.12"
  }
 },
 "nbformat": 4,
 "nbformat_minor": 5
}
