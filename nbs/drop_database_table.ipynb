{
 "cells": [
  {
   "cell_type": "code",
   "execution_count": 5,
   "id": "9b0cb82e-9342-4b98-9f85-0b1aadd3f6e2",
   "metadata": {},
   "outputs": [
    {
     "name": "stdout",
     "output_type": "stream",
     "text": [
      "/home/ahmed/development/fastpi_course\n"
     ]
    }
   ],
   "source": [
    "%cd /home/ahmed/development/fastpi_course"
   ]
  },
  {
   "cell_type": "code",
   "execution_count": 9,
   "id": "8b76cb64-7783-4c82-99f3-fdf4a136d9ab",
   "metadata": {},
   "outputs": [],
   "source": [
    "from app import db, config\n",
    "from cassandra.cqlengine.management import sync_table\n",
    "from app.users.models import User\n",
    "from app.videos.models import Video\n"
   ]
  },
  {
   "cell_type": "code",
   "execution_count": 7,
   "id": "4a8c18c9-9ff2-4ffd-90dc-47c3dd0cf532",
   "metadata": {},
   "outputs": [],
   "source": [
    "session = db.get_session()\n"
   ]
  },
  {
   "cell_type": "code",
   "execution_count": 10,
   "id": "a1209f6d-bfff-409d-a024-36c3064369e2",
   "metadata": {},
   "outputs": [],
   "source": [
    "settings = config.get_settings()"
   ]
  },
  {
   "cell_type": "code",
   "execution_count": 12,
   "id": "22e13038-d9dc-458f-bb32-29fa87e1ded4",
   "metadata": {},
   "outputs": [],
   "source": [
    "keyspace = settings.astradb_keyspace"
   ]
  },
  {
   "cell_type": "code",
   "execution_count": 13,
   "id": "e72d35db-37ed-4ee4-86dd-3cc7907fd032",
   "metadata": {},
   "outputs": [
    {
     "data": {
      "text/plain": [
       "'video_membership_app'"
      ]
     },
     "execution_count": 13,
     "metadata": {},
     "output_type": "execute_result"
    }
   ],
   "source": [
    "keyspace"
   ]
  },
  {
   "cell_type": "code",
   "execution_count": 15,
   "id": "cbef5fe3-9080-4000-b622-7178c7ce7e74",
   "metadata": {},
   "outputs": [],
   "source": [
    "# model_name = 'WatchEvent\" # is translated into watch lowered then _ and then event watch_event\n",
    "model_name = \"watch_event\""
   ]
  },
  {
   "cell_type": "code",
   "execution_count": 19,
   "id": "ff4fedd6-1fc8-42b1-a5aa-8400a641a196",
   "metadata": {},
   "outputs": [],
   "source": [
    "query = f\"DROP TABLE IF EXISTS {keyspace}.{model_name}\""
   ]
  },
  {
   "cell_type": "code",
   "execution_count": 20,
   "id": "8a427b16-a3f7-4817-a0a1-b846db4f373a",
   "metadata": {},
   "outputs": [
    {
     "data": {
      "text/plain": [
       "'DROP TABLE IF EXISTS video_membership_app.watch_event'"
      ]
     },
     "execution_count": 20,
     "metadata": {},
     "output_type": "execute_result"
    }
   ],
   "source": [
    "query"
   ]
  },
  {
   "cell_type": "code",
   "execution_count": 22,
   "id": "4973b152-8692-4fb7-b45d-bf69e442ba2d",
   "metadata": {},
   "outputs": [],
   "source": [
    "r = session.execute(query) # <cassandra.cluster.ResultSet at 0x7efc0422ce20>"
   ]
  },
  {
   "cell_type": "code",
   "execution_count": 23,
   "id": "af26bd98-a75d-4295-a831-bae2b5269243",
   "metadata": {},
   "outputs": [
    {
     "data": {
      "text/plain": [
       "['__bool__',\n",
       " '__class__',\n",
       " '__delattr__',\n",
       " '__dict__',\n",
       " '__dir__',\n",
       " '__doc__',\n",
       " '__eq__',\n",
       " '__format__',\n",
       " '__ge__',\n",
       " '__getattribute__',\n",
       " '__getitem__',\n",
       " '__gt__',\n",
       " '__hash__',\n",
       " '__init__',\n",
       " '__init_subclass__',\n",
       " '__iter__',\n",
       " '__le__',\n",
       " '__lt__',\n",
       " '__module__',\n",
       " '__ne__',\n",
       " '__new__',\n",
       " '__next__',\n",
       " '__nonzero__',\n",
       " '__reduce__',\n",
       " '__reduce_ex__',\n",
       " '__repr__',\n",
       " '__setattr__',\n",
       " '__sizeof__',\n",
       " '__str__',\n",
       " '__subclasshook__',\n",
       " '__weakref__',\n",
       " '_current_rows',\n",
       " '_enter_list_mode',\n",
       " '_fetch_all',\n",
       " '_list_mode',\n",
       " '_page_iter',\n",
       " '_set_current_rows',\n",
       " 'all',\n",
       " 'cancel_continuous_paging',\n",
       " 'column_names',\n",
       " 'column_types',\n",
       " 'current_rows',\n",
       " 'fetch_next_page',\n",
       " 'get_all_query_traces',\n",
       " 'get_query_trace',\n",
       " 'has_more_pages',\n",
       " 'next',\n",
       " 'one',\n",
       " 'paging_state',\n",
       " 'response_future',\n",
       " 'was_applied']"
      ]
     },
     "execution_count": 23,
     "metadata": {},
     "output_type": "execute_result"
    }
   ],
   "source": [
    "dir(r)"
   ]
  },
  {
   "cell_type": "code",
   "execution_count": 25,
   "id": "ca8ca587-c728-4bda-ac66-4a1cff03bcc9",
   "metadata": {},
   "outputs": [],
   "source": [
    "from app.watch_events.models import WatchEvent"
   ]
  },
  {
   "cell_type": "code",
   "execution_count": 26,
   "id": "5fdab570-17ab-4e67-b919-3810908649e0",
   "metadata": {},
   "outputs": [],
   "source": [
    "q = WatchEvent.objects.all()"
   ]
  },
  {
   "cell_type": "code",
   "execution_count": 28,
   "id": "91b9b54e-acdb-4a75-91a0-e7368ddd4c55",
   "metadata": {},
   "outputs": [],
   "source": [
    "query_str = str(q._select_query())"
   ]
  },
  {
   "cell_type": "code",
   "execution_count": 29,
   "id": "7118f7a5-070a-4194-a91a-c3aecfe35dfd",
   "metadata": {},
   "outputs": [
    {
     "data": {
      "text/plain": [
       "'SELECT * FROM video_membership_app.watch_event LIMIT 10000'"
      ]
     },
     "execution_count": 29,
     "metadata": {},
     "output_type": "execute_result"
    }
   ],
   "source": [
    "query_str"
   ]
  },
  {
   "cell_type": "code",
   "execution_count": 30,
   "id": "1edbc06d-9089-43c0-874c-0d575c9077e4",
   "metadata": {},
   "outputs": [
    {
     "name": "stdout",
     "output_type": "stream",
     "text": [
      "{'event_id': UUID('8071283c-8575-11ee-bfdd-a5653cb0f9e0'), 'host_id': '-D6G2a1M784', 'user_id': UUID('a820381e-73be-11ee-b051-e91f02349b61'), 'complete': False, 'duration': 500.0, 'end_time': 50.087295, 'path': None, 'start_time': 0.0}\n",
      "{'event_id': UUID('7db302be-8575-11ee-bfdd-a5653cb0f9e0'), 'host_id': '-D6G2a1M784', 'user_id': UUID('a820381e-73be-11ee-b051-e91f02349b61'), 'complete': False, 'duration': 500.0, 'end_time': 48.387658, 'path': None, 'start_time': 0.0}\n",
      "{'event_id': UUID('8388142c-8575-11ee-bfdd-a5653cb0f9e0'), 'host_id': '-D6G2a1M784', 'user_id': UUID('a820381e-73be-11ee-b051-e91f02349b61'), 'complete': False, 'duration': 500.0, 'end_time': 53.993264, 'path': None, 'start_time': 0.0}\n",
      "{'event_id': UUID('8368a8ee-8575-11ee-bfdd-a5653cb0f9e0'), 'host_id': '-D6G2a1M784', 'user_id': UUID('a820381e-73be-11ee-b051-e91f02349b61'), 'complete': False, 'duration': 500.0, 'end_time': 53.993264, 'path': None, 'start_time': 0.0}\n"
     ]
    }
   ],
   "source": [
    "result_query = session.execute(query_str)\n",
    "for item in result_query.all():\n",
    "    print(item)\n",
    "\n",
    "    "
   ]
  }
 ],
 "metadata": {
  "kernelspec": {
   "display_name": "Python 3 (ipykernel)",
   "language": "python",
   "name": "python3"
  },
  "language_info": {
   "codemirror_mode": {
    "name": "ipython",
    "version": 3
   },
   "file_extension": ".py",
   "mimetype": "text/x-python",
   "name": "python",
   "nbconvert_exporter": "python",
   "pygments_lexer": "ipython3",
   "version": "3.10.12"
  }
 },
 "nbformat": 4,
 "nbformat_minor": 5
}
