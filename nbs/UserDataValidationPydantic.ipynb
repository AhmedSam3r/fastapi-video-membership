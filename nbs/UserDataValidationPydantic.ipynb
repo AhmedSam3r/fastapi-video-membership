{
 "cells": [
  {
   "cell_type": "code",
   "execution_count": 1,
   "id": "30f409c9-480c-4437-ac7f-b52865c3f251",
   "metadata": {},
   "outputs": [
    {
     "name": "stdout",
     "output_type": "stream",
     "text": [
      "/home/ahmed/development/fastpi_course\n"
     ]
    }
   ],
   "source": [
    "cd /home/ahmed/development/fastpi_course"
   ]
  },
  {
   "cell_type": "code",
   "execution_count": 2,
   "id": "bd999428-04d1-485d-96e9-9929f861b9c5",
   "metadata": {},
   "outputs": [],
   "source": [
    "from app import db\n",
    "from cassandra.cqlengine.management import sync_table\n",
    "from app.users.models import User"
   ]
  },
  {
   "cell_type": "code",
   "execution_count": 3,
   "id": "e349dbd6-3092-4750-ac2a-26429ddd69f8",
   "metadata": {},
   "outputs": [],
   "source": [
    "db.get_session()\n",
    "sync_table(User)"
   ]
  },
  {
   "cell_type": "code",
   "execution_count": 4,
   "id": "994921dd-4e8e-4959-86dc-e5091ea4dbc3",
   "metadata": {},
   "outputs": [],
   "source": [
    "post_data = {\n",
    "    'email': 'testpydantic@gmail.com',\n",
    "    'password': 'abc123'\n",
    "}"
   ]
  },
  {
   "cell_type": "code",
   "execution_count": 8,
   "id": "83085db2-72ab-4764-bf7c-ea94aab08a16",
   "metadata": {},
   "outputs": [],
   "source": [
    "from pydantic import BaseModel, EmailStr"
   ]
  },
  {
   "cell_type": "code",
   "execution_count": 6,
   "id": "c1ed2dc6-1165-472e-b356-343f4774fc40",
   "metadata": {},
   "outputs": [],
   "source": [
    "class UserLoginSchema(BaseModel):\n",
    "    email: str\n",
    "    password: int"
   ]
  },
  {
   "cell_type": "code",
   "execution_count": 7,
   "id": "3345408a-c485-40c2-839e-53fc8d7342bc",
   "metadata": {},
   "outputs": [
    {
     "ename": "ValidationError",
     "evalue": "1 validation error for UserLoginSchema\npassword\n  Input should be a valid integer, unable to parse string as an integer [type=int_parsing, input_value='abc123', input_type=str]\n    For further information visit https://errors.pydantic.dev/2.4/v/int_parsing",
     "output_type": "error",
     "traceback": [
      "\u001b[0;31m---------------------------------------------------------------------------\u001b[0m",
      "\u001b[0;31mValidationError\u001b[0m                           Traceback (most recent call last)",
      "Cell \u001b[0;32mIn[7], line 1\u001b[0m\n\u001b[0;32m----> 1\u001b[0m \u001b[43mUserLoginSchema\u001b[49m\u001b[43m(\u001b[49m\u001b[38;5;241;43m*\u001b[39;49m\u001b[38;5;241;43m*\u001b[39;49m\u001b[43mpost_data\u001b[49m\u001b[43m)\u001b[49m \u001b[38;5;66;03m# passed as kwargs email='test...', password='abc123'\u001b[39;00m\n",
      "File \u001b[0;32m~/development/fastpi_course/venv/lib/python3.10/site-packages/pydantic/main.py:164\u001b[0m, in \u001b[0;36mBaseModel.__init__\u001b[0;34m(__pydantic_self__, **data)\u001b[0m\n\u001b[1;32m    162\u001b[0m \u001b[38;5;66;03m# `__tracebackhide__` tells pytest and some other tools to omit this function from tracebacks\u001b[39;00m\n\u001b[1;32m    163\u001b[0m __tracebackhide__ \u001b[38;5;241m=\u001b[39m \u001b[38;5;28;01mTrue\u001b[39;00m\n\u001b[0;32m--> 164\u001b[0m \u001b[43m__pydantic_self__\u001b[49m\u001b[38;5;241;43m.\u001b[39;49m\u001b[43m__pydantic_validator__\u001b[49m\u001b[38;5;241;43m.\u001b[39;49m\u001b[43mvalidate_python\u001b[49m\u001b[43m(\u001b[49m\u001b[43mdata\u001b[49m\u001b[43m,\u001b[49m\u001b[43m \u001b[49m\u001b[43mself_instance\u001b[49m\u001b[38;5;241;43m=\u001b[39;49m\u001b[43m__pydantic_self__\u001b[49m\u001b[43m)\u001b[49m\n",
      "\u001b[0;31mValidationError\u001b[0m: 1 validation error for UserLoginSchema\npassword\n  Input should be a valid integer, unable to parse string as an integer [type=int_parsing, input_value='abc123', input_type=str]\n    For further information visit https://errors.pydantic.dev/2.4/v/int_parsing"
     ]
    }
   ],
   "source": [
    "UserLoginSchema(**post_data) # passed as kwargs email='test...', password='abc123'"
   ]
  },
  {
   "cell_type": "code",
   "execution_count": 10,
   "id": "52edc938-2831-4422-b3fb-95c1b1bc0a48",
   "metadata": {},
   "outputs": [],
   "source": [
    "class UserLoginSchema(BaseModel):\n",
    "    email: EmailStr\n",
    "    password: str\n",
    "    "
   ]
  },
  {
   "cell_type": "code",
   "execution_count": 11,
   "id": "c8fb1905-a5ba-46b4-86aa-366153421d77",
   "metadata": {},
   "outputs": [
    {
     "data": {
      "text/plain": [
       "UserLoginSchema(email='testpydantic@gmail.com', password='abc123')"
      ]
     },
     "execution_count": 11,
     "metadata": {},
     "output_type": "execute_result"
    }
   ],
   "source": [
    "UserLoginSchema(**post_data) # passed as kwargs email='test...', password='abc123'"
   ]
  },
  {
   "cell_type": "code",
   "execution_count": 12,
   "id": "fa571c95-ca40-49b4-b386-867a12d14af6",
   "metadata": {},
   "outputs": [
    {
     "ename": "ValidationError",
     "evalue": "1 validation error for UserLoginSchema\nemail\n  value is not a valid email address: The email address is not valid. It must have exactly one @-sign. [type=value_error, input_value='wrongemail', input_type=str]",
     "output_type": "error",
     "traceback": [
      "\u001b[0;31m---------------------------------------------------------------------------\u001b[0m",
      "\u001b[0;31mValidationError\u001b[0m                           Traceback (most recent call last)",
      "Cell \u001b[0;32mIn[12], line 1\u001b[0m\n\u001b[0;32m----> 1\u001b[0m \u001b[43mUserLoginSchema\u001b[49m\u001b[43m(\u001b[49m\u001b[43memail\u001b[49m\u001b[38;5;241;43m=\u001b[39;49m\u001b[38;5;124;43m'\u001b[39;49m\u001b[38;5;124;43mwrongemail\u001b[39;49m\u001b[38;5;124;43m'\u001b[39;49m\u001b[43m,\u001b[49m\u001b[43m \u001b[49m\u001b[43mpassword\u001b[49m\u001b[38;5;241;43m=\u001b[39;49m\u001b[38;5;124;43m'\u001b[39;49m\u001b[38;5;124;43m123\u001b[39;49m\u001b[38;5;124;43m'\u001b[39;49m\u001b[43m)\u001b[49m \u001b[38;5;66;03m# passed as kwargs email='test...', password='abc123'\u001b[39;00m\n",
      "File \u001b[0;32m~/development/fastpi_course/venv/lib/python3.10/site-packages/pydantic/main.py:164\u001b[0m, in \u001b[0;36mBaseModel.__init__\u001b[0;34m(__pydantic_self__, **data)\u001b[0m\n\u001b[1;32m    162\u001b[0m \u001b[38;5;66;03m# `__tracebackhide__` tells pytest and some other tools to omit this function from tracebacks\u001b[39;00m\n\u001b[1;32m    163\u001b[0m __tracebackhide__ \u001b[38;5;241m=\u001b[39m \u001b[38;5;28;01mTrue\u001b[39;00m\n\u001b[0;32m--> 164\u001b[0m \u001b[43m__pydantic_self__\u001b[49m\u001b[38;5;241;43m.\u001b[39;49m\u001b[43m__pydantic_validator__\u001b[49m\u001b[38;5;241;43m.\u001b[39;49m\u001b[43mvalidate_python\u001b[49m\u001b[43m(\u001b[49m\u001b[43mdata\u001b[49m\u001b[43m,\u001b[49m\u001b[43m \u001b[49m\u001b[43mself_instance\u001b[49m\u001b[38;5;241;43m=\u001b[39;49m\u001b[43m__pydantic_self__\u001b[49m\u001b[43m)\u001b[49m\n",
      "\u001b[0;31mValidationError\u001b[0m: 1 validation error for UserLoginSchema\nemail\n  value is not a valid email address: The email address is not valid. It must have exactly one @-sign. [type=value_error, input_value='wrongemail', input_type=str]"
     ]
    }
   ],
   "source": [
    "UserLoginSchema(email='wrongemail', password='123') # passed as kwargs email='test...', password='abc123'\n"
   ]
  },
  {
   "cell_type": "code",
   "execution_count": 13,
   "id": "da3b44f5-39a9-4c08-8554-1b9cb3e3703d",
   "metadata": {},
   "outputs": [],
   "source": [
    "from pydantic import BaseModel, EmailStr, SecretStr"
   ]
  },
  {
   "cell_type": "code",
   "execution_count": 14,
   "id": "9ce7fd0a-81f9-464d-b647-bd5e9287b6b6",
   "metadata": {},
   "outputs": [
    {
     "data": {
      "text/plain": [
       "UserLoginSchema(email='wrongemail@gmail.com', password='123')"
      ]
     },
     "execution_count": 14,
     "metadata": {},
     "output_type": "execute_result"
    }
   ],
   "source": [
    "UserLoginSchema(email='wrongemail@gmail.com', password='123') # passed as kwargs email='test...', password='abc123'\n"
   ]
  },
  {
   "cell_type": "code",
   "execution_count": 15,
   "id": "b0ece3d5-99b6-44fd-b9da-31a1868ba1d4",
   "metadata": {},
   "outputs": [],
   "source": [
    "class UserLoginSchema(BaseModel):\n",
    "    email: EmailStr\n",
    "    password: SecretStr\n",
    "    "
   ]
  },
  {
   "cell_type": "code",
   "execution_count": 16,
   "id": "5b992ab0-8cff-4f9d-8164-c4d6beab4229",
   "metadata": {},
   "outputs": [
    {
     "data": {
      "text/plain": [
       "UserLoginSchema(email='wrongemail@gmail.com', password=SecretStr('**********'))"
      ]
     },
     "execution_count": 16,
     "metadata": {},
     "output_type": "execute_result"
    }
   ],
   "source": [
    "UserLoginSchema(email='wrongemail@gmail.com', password='123')"
   ]
  },
  {
   "cell_type": "code",
   "execution_count": 17,
   "id": "74958deb-57a8-460f-8b7a-e95b8573229f",
   "metadata": {},
   "outputs": [],
   "source": [
    "# password='123')  vs password=SecretStr('**********'))\n"
   ]
  },
  {
   "cell_type": "code",
   "execution_count": 22,
   "id": "ca924be9-a64e-4feb-a246-8f9405d7dc09",
   "metadata": {},
   "outputs": [],
   "source": [
    "from pydantic import BaseModel, EmailStr, SecretStr, field_validator"
   ]
  },
  {
   "cell_type": "code",
   "execution_count": 25,
   "id": "d935663a-8320-4251-9ad5-98d91dea81fe",
   "metadata": {},
   "outputs": [
    {
     "name": "stderr",
     "output_type": "stream",
     "text": [
      "/tmp/ipykernel_516519/3186061029.py:5: PydanticDeprecatedSince20: Pydantic V1 style `@validator` validators are deprecated. You should migrate to Pydantic V2 style `@field_validator` validators, see the migration guide for more details. Deprecated in Pydantic V2.0 to be removed in V3.0. See Pydantic V2 Migration Guide at https://errors.pydantic.dev/2.4/migration/\n",
      "  @validator('password_confirmation')\n"
     ]
    }
   ],
   "source": [
    "class UserSignupSchema(BaseModel):\n",
    "    email: EmailStr\n",
    "    password: SecretStr\n",
    "    password_confirmation: SecretStr\n",
    "    @validator('password_confirmation')\n",
    "    def password_match(cls, v, values, **kwargs):\n",
    "        password = values.get('password')\n",
    "        password_confirmation = v\n",
    "        if password != password_confirmation:\n",
    "            raise ValueError(\"passwords don't match\")\n",
    "        return v\n",
    "        \n"
   ]
  },
  {
   "cell_type": "code",
   "execution_count": 24,
   "id": "b5382d6e-49f3-4fdd-9e45-222260e06f03",
   "metadata": {},
   "outputs": [
    {
     "ename": "AttributeError",
     "evalue": "'pydantic_core._pydantic_core.ValidationInfo' object has no attribute 'get'",
     "output_type": "error",
     "traceback": [
      "\u001b[0;31m---------------------------------------------------------------------------\u001b[0m",
      "\u001b[0;31mAttributeError\u001b[0m                            Traceback (most recent call last)",
      "Cell \u001b[0;32mIn[24], line 1\u001b[0m\n\u001b[0;32m----> 1\u001b[0m \u001b[43mUserSignupSchema\u001b[49m\u001b[43m(\u001b[49m\u001b[43memail\u001b[49m\u001b[38;5;241;43m=\u001b[39;49m\u001b[38;5;124;43m'\u001b[39;49m\u001b[38;5;124;43mtest@gmail.com\u001b[39;49m\u001b[38;5;124;43m'\u001b[39;49m\u001b[43m,\u001b[49m\u001b[43m \u001b[49m\u001b[43mpassword\u001b[49m\u001b[38;5;241;43m=\u001b[39;49m\u001b[38;5;124;43m'\u001b[39;49m\u001b[38;5;124;43m123\u001b[39;49m\u001b[38;5;124;43m'\u001b[39;49m\u001b[43m,\u001b[49m\u001b[43m \u001b[49m\u001b[43mpassword_confirmation\u001b[49m\u001b[38;5;241;43m=\u001b[39;49m\u001b[38;5;124;43m'\u001b[39;49m\u001b[38;5;124;43m11\u001b[39;49m\u001b[38;5;124;43m'\u001b[39;49m\u001b[43m)\u001b[49m\n",
      "    \u001b[0;31m[... skipping hidden 1 frame]\u001b[0m\n",
      "Cell \u001b[0;32mIn[23], line 7\u001b[0m, in \u001b[0;36mUserSignupSchema.password_match\u001b[0;34m(cls, v, values, **kwargs)\u001b[0m\n\u001b[1;32m      5\u001b[0m \u001b[38;5;129m@field_validator\u001b[39m(\u001b[38;5;124m'\u001b[39m\u001b[38;5;124mpassword_confirmation\u001b[39m\u001b[38;5;124m'\u001b[39m)\n\u001b[1;32m      6\u001b[0m \u001b[38;5;28;01mdef\u001b[39;00m \u001b[38;5;21mpassword_match\u001b[39m(\u001b[38;5;28mcls\u001b[39m, v, values, \u001b[38;5;241m*\u001b[39m\u001b[38;5;241m*\u001b[39mkwargs):\n\u001b[0;32m----> 7\u001b[0m     password \u001b[38;5;241m=\u001b[39m \u001b[43mvalues\u001b[49m\u001b[38;5;241;43m.\u001b[39;49m\u001b[43mget\u001b[49m(\u001b[38;5;124m'\u001b[39m\u001b[38;5;124mpassword\u001b[39m\u001b[38;5;124m'\u001b[39m)\n\u001b[1;32m      8\u001b[0m     password_confirmation \u001b[38;5;241m=\u001b[39m v\n\u001b[1;32m      9\u001b[0m     \u001b[38;5;28;01mif\u001b[39;00m password \u001b[38;5;241m!=\u001b[39m password_confirmation:\n",
      "\u001b[0;31mAttributeError\u001b[0m: 'pydantic_core._pydantic_core.ValidationInfo' object has no attribute 'get'"
     ]
    }
   ],
   "source": [
    "UserSignupSchema(email='test@gmail.com', password='123', password_confirmation='11')"
   ]
  },
  {
   "cell_type": "code",
   "execution_count": 26,
   "id": "acbb1e9f-0c96-47ff-9f6c-f62f8719afef",
   "metadata": {},
   "outputs": [],
   "source": [
    "class UserSignupSchema(BaseModel):\n",
    "    email: EmailStr\n",
    "    password: SecretStr\n",
    "    password_confirmation: SecretStr\n",
    "    @field_validator('password_confirmation')\n",
    "    def password_match(cls, values, **kwargs):\n",
    "        password = values.get('password')\n",
    "        password_confirmation = values.get(\"password_confirmation\")\n",
    "        if password != password_confirmation:\n",
    "            raise ValueError(\"passwords don't match\")\n",
    "        return v"
   ]
  },
  {
   "cell_type": "code",
   "execution_count": 27,
   "id": "496810fa-1e39-438f-a571-22ae2c7f845a",
   "metadata": {},
   "outputs": [
    {
     "ename": "AttributeError",
     "evalue": "'SecretStr' object has no attribute 'get'",
     "output_type": "error",
     "traceback": [
      "\u001b[0;31m---------------------------------------------------------------------------\u001b[0m",
      "\u001b[0;31mAttributeError\u001b[0m                            Traceback (most recent call last)",
      "Cell \u001b[0;32mIn[27], line 1\u001b[0m\n\u001b[0;32m----> 1\u001b[0m \u001b[43mUserSignupSchema\u001b[49m\u001b[43m(\u001b[49m\u001b[43memail\u001b[49m\u001b[38;5;241;43m=\u001b[39;49m\u001b[38;5;124;43m'\u001b[39;49m\u001b[38;5;124;43mtest@gmail.com\u001b[39;49m\u001b[38;5;124;43m'\u001b[39;49m\u001b[43m,\u001b[49m\u001b[43m \u001b[49m\u001b[43mpassword\u001b[49m\u001b[38;5;241;43m=\u001b[39;49m\u001b[38;5;124;43m'\u001b[39;49m\u001b[38;5;124;43m123\u001b[39;49m\u001b[38;5;124;43m'\u001b[39;49m\u001b[43m,\u001b[49m\u001b[43m \u001b[49m\u001b[43mpassword_confirmation\u001b[49m\u001b[38;5;241;43m=\u001b[39;49m\u001b[38;5;124;43m'\u001b[39;49m\u001b[38;5;124;43m11\u001b[39;49m\u001b[38;5;124;43m'\u001b[39;49m\u001b[43m)\u001b[49m\n",
      "    \u001b[0;31m[... skipping hidden 1 frame]\u001b[0m\n",
      "Cell \u001b[0;32mIn[26], line 7\u001b[0m, in \u001b[0;36mUserSignupSchema.password_match\u001b[0;34m(cls, values, **kwargs)\u001b[0m\n\u001b[1;32m      5\u001b[0m \u001b[38;5;129m@field_validator\u001b[39m(\u001b[38;5;124m'\u001b[39m\u001b[38;5;124mpassword_confirmation\u001b[39m\u001b[38;5;124m'\u001b[39m)\n\u001b[1;32m      6\u001b[0m \u001b[38;5;28;01mdef\u001b[39;00m \u001b[38;5;21mpassword_match\u001b[39m(\u001b[38;5;28mcls\u001b[39m, values, \u001b[38;5;241m*\u001b[39m\u001b[38;5;241m*\u001b[39mkwargs):\n\u001b[0;32m----> 7\u001b[0m     password \u001b[38;5;241m=\u001b[39m \u001b[43mvalues\u001b[49m\u001b[38;5;241;43m.\u001b[39;49m\u001b[43mget\u001b[49m(\u001b[38;5;124m'\u001b[39m\u001b[38;5;124mpassword\u001b[39m\u001b[38;5;124m'\u001b[39m)\n\u001b[1;32m      8\u001b[0m     password_confirmation \u001b[38;5;241m=\u001b[39m values\u001b[38;5;241m.\u001b[39mget(\u001b[38;5;124m\"\u001b[39m\u001b[38;5;124mpassword_confirmation\u001b[39m\u001b[38;5;124m\"\u001b[39m)\n\u001b[1;32m      9\u001b[0m     \u001b[38;5;28;01mif\u001b[39;00m password \u001b[38;5;241m!=\u001b[39m password_confirmation:\n",
      "\u001b[0;31mAttributeError\u001b[0m: 'SecretStr' object has no attribute 'get'"
     ]
    }
   ],
   "source": [
    "UserSignupSchema(email='test@gmail.com', password='123', password_confirmation='11')\n"
   ]
  },
  {
   "cell_type": "code",
   "execution_count": 97,
   "id": "6beb84f6-857e-47f3-8439-e4b31752a512",
   "metadata": {},
   "outputs": [],
   "source": [
    "class UserSignupSchema(BaseModel):\n",
    "    email: EmailStr\n",
    "    password: SecretStr\n",
    "    password_confirmation: SecretStr\n",
    "\n",
    "    @field_validator(\"password_confirmation\")\n",
    "    def passwords_match(cls,value: SecretStr, info: ValidationInfo):\n",
    "        # print(type(cls), cls) # class 'pydantic._internal._model_construction.ModelMetaclass\n",
    "        password = info.data.get('password').get_secret_value()\n",
    "        password_confirmation = value.get_secret_value()\n",
    "        if password != password_confirmation:\n",
    "            raise ValueError(\"Passwords don't match\")\n"
   ]
  },
  {
   "cell_type": "code",
   "execution_count": 98,
   "id": "bd9843bc-37b8-4719-a852-2f1cce0b8df1",
   "metadata": {},
   "outputs": [
    {
     "ename": "ValidationError",
     "evalue": "1 validation error for UserSignupSchema\npassword_confirmation\n  Value error, Passwords don't match [type=value_error, input_value='11', input_type=str]\n    For further information visit https://errors.pydantic.dev/2.4/v/value_error",
     "output_type": "error",
     "traceback": [
      "\u001b[0;31m---------------------------------------------------------------------------\u001b[0m",
      "\u001b[0;31mValidationError\u001b[0m                           Traceback (most recent call last)",
      "Cell \u001b[0;32mIn[98], line 1\u001b[0m\n\u001b[0;32m----> 1\u001b[0m \u001b[43mUserSignupSchema\u001b[49m\u001b[43m(\u001b[49m\u001b[43memail\u001b[49m\u001b[38;5;241;43m=\u001b[39;49m\u001b[38;5;124;43m'\u001b[39;49m\u001b[38;5;124;43mtest@gmail.com\u001b[39;49m\u001b[38;5;124;43m'\u001b[39;49m\u001b[43m,\u001b[49m\u001b[43m \u001b[49m\u001b[43mpassword\u001b[49m\u001b[38;5;241;43m=\u001b[39;49m\u001b[38;5;124;43m'\u001b[39;49m\u001b[38;5;124;43m123\u001b[39;49m\u001b[38;5;124;43m'\u001b[39;49m\u001b[43m,\u001b[49m\u001b[43m \u001b[49m\u001b[43mpassword_confirmation\u001b[49m\u001b[38;5;241;43m=\u001b[39;49m\u001b[38;5;124;43m'\u001b[39;49m\u001b[38;5;124;43m11\u001b[39;49m\u001b[38;5;124;43m'\u001b[39;49m\u001b[43m)\u001b[49m\n",
      "File \u001b[0;32m~/development/fastpi_course/venv/lib/python3.10/site-packages/pydantic/main.py:164\u001b[0m, in \u001b[0;36mBaseModel.__init__\u001b[0;34m(__pydantic_self__, **data)\u001b[0m\n\u001b[1;32m    162\u001b[0m \u001b[38;5;66;03m# `__tracebackhide__` tells pytest and some other tools to omit this function from tracebacks\u001b[39;00m\n\u001b[1;32m    163\u001b[0m __tracebackhide__ \u001b[38;5;241m=\u001b[39m \u001b[38;5;28;01mTrue\u001b[39;00m\n\u001b[0;32m--> 164\u001b[0m \u001b[43m__pydantic_self__\u001b[49m\u001b[38;5;241;43m.\u001b[39;49m\u001b[43m__pydantic_validator__\u001b[49m\u001b[38;5;241;43m.\u001b[39;49m\u001b[43mvalidate_python\u001b[49m\u001b[43m(\u001b[49m\u001b[43mdata\u001b[49m\u001b[43m,\u001b[49m\u001b[43m \u001b[49m\u001b[43mself_instance\u001b[49m\u001b[38;5;241;43m=\u001b[39;49m\u001b[43m__pydantic_self__\u001b[49m\u001b[43m)\u001b[49m\n",
      "\u001b[0;31mValidationError\u001b[0m: 1 validation error for UserSignupSchema\npassword_confirmation\n  Value error, Passwords don't match [type=value_error, input_value='11', input_type=str]\n    For further information visit https://errors.pydantic.dev/2.4/v/value_error"
     ]
    }
   ],
   "source": [
    "UserSignupSchema(email='test@gmail.com', password='123', password_confirmation='11')"
   ]
  },
  {
   "cell_type": "code",
   "execution_count": 93,
   "id": "32394a63-8cc8-4193-8f47-bb69394cd34c",
   "metadata": {},
   "outputs": [],
   "source": [
    "from pydantic import BaseModel, ValidationInfo, field_validator"
   ]
  },
  {
   "cell_type": "code",
   "execution_count": 100,
   "id": "78e55c12-9ffe-45f8-87a8-05b3e9152418",
   "metadata": {},
   "outputs": [
    {
     "data": {
      "text/plain": [
       "UserSignupSchema(email='test@gmail.com', password=SecretStr('**********'), password_confirmation=None)"
      ]
     },
     "execution_count": 100,
     "metadata": {},
     "output_type": "execute_result"
    }
   ],
   "source": [
    "UserSignupSchema(email='test@gmail.com', password='123', password_confirmation='123')"
   ]
  },
  {
   "cell_type": "code",
   "execution_count": 103,
   "id": "6597df8d-b7da-4873-9e48-b3441f6328a3",
   "metadata": {},
   "outputs": [],
   "source": [
    "class UserSignupSchema(BaseModel):\n",
    "    email: EmailStr\n",
    "    password: SecretStr\n",
    "    password_confirmation: SecretStr\n",
    "\n",
    "    @field_validator(\"password_confirmation\")\n",
    "    def passwords_match(cls,value: SecretStr, info: ValidationInfo):\n",
    "        # print(type(cls), cls) # class 'pydantic._internal._model_construction.ModelMetaclass\n",
    "        password = info.data.get('password').get_secret_value()\n",
    "        password_confirmation = value.get_secret_value()\n",
    "        if password != password_confirmation:\n",
    "            raise ValueError(\"Passwords don't match\")\n",
    "\n",
    "        return password\n",
    "    \n",
    "    @field_validator(\"email\")\n",
    "    def email_exists(cls,value: EmailStr, info: ValidationInfo):\n",
    "        q = User.objects.filter(email=value)\n",
    "        print(\"info \",info)\n",
    "        print('q= ', q)\n",
    "        if q.count() != 0:\n",
    "            raise ValueError('Email is not available')\n",
    "\n",
    "        return value\n",
    "\n"
   ]
  },
  {
   "cell_type": "code",
   "execution_count": 110,
   "id": "7f9a67a0-f1e5-4b29-9005-bd32b92fc5e1",
   "metadata": {},
   "outputs": [
    {
     "name": "stdout",
     "output_type": "stream",
     "text": [
      "info  ValidationInfo(config={'title': 'UserSignupSchema'}, context=None, data={}, field_name='email')\n",
      "q=  SELECT \"user_id\", \"password\" FROM video_membership_app.user WHERE \"email\" = %(0)s LIMIT 10000\n"
     ]
    },
    {
     "ename": "ValidationError",
     "evalue": "1 validation error for UserSignupSchema\nemail\n  Value error, Email is not available [type=value_error, input_value='test1@test.com', input_type=str]\n    For further information visit https://errors.pydantic.dev/2.4/v/value_error",
     "output_type": "error",
     "traceback": [
      "\u001b[0;31m---------------------------------------------------------------------------\u001b[0m",
      "\u001b[0;31mValidationError\u001b[0m                           Traceback (most recent call last)",
      "Cell \u001b[0;32mIn[110], line 1\u001b[0m\n\u001b[0;32m----> 1\u001b[0m data \u001b[38;5;241m=\u001b[39m \u001b[43mUserSignupSchema\u001b[49m\u001b[43m(\u001b[49m\u001b[43memail\u001b[49m\u001b[38;5;241;43m=\u001b[39;49m\u001b[38;5;124;43m'\u001b[39;49m\u001b[38;5;124;43mtest1@test.com\u001b[39;49m\u001b[38;5;124;43m'\u001b[39;49m\u001b[43m,\u001b[49m\u001b[43m \u001b[49m\u001b[43mpassword\u001b[49m\u001b[38;5;241;43m=\u001b[39;49m\u001b[38;5;124;43m'\u001b[39;49m\u001b[38;5;124;43m123\u001b[39;49m\u001b[38;5;124;43m'\u001b[39;49m\u001b[43m,\u001b[49m\u001b[43m \u001b[49m\u001b[43mpassword_confirmation\u001b[49m\u001b[38;5;241;43m=\u001b[39;49m\u001b[38;5;124;43m'\u001b[39;49m\u001b[38;5;124;43m123\u001b[39;49m\u001b[38;5;124;43m'\u001b[39;49m\u001b[43m)\u001b[49m\n",
      "File \u001b[0;32m~/development/fastpi_course/venv/lib/python3.10/site-packages/pydantic/main.py:164\u001b[0m, in \u001b[0;36mBaseModel.__init__\u001b[0;34m(__pydantic_self__, **data)\u001b[0m\n\u001b[1;32m    162\u001b[0m \u001b[38;5;66;03m# `__tracebackhide__` tells pytest and some other tools to omit this function from tracebacks\u001b[39;00m\n\u001b[1;32m    163\u001b[0m __tracebackhide__ \u001b[38;5;241m=\u001b[39m \u001b[38;5;28;01mTrue\u001b[39;00m\n\u001b[0;32m--> 164\u001b[0m \u001b[43m__pydantic_self__\u001b[49m\u001b[38;5;241;43m.\u001b[39;49m\u001b[43m__pydantic_validator__\u001b[49m\u001b[38;5;241;43m.\u001b[39;49m\u001b[43mvalidate_python\u001b[49m\u001b[43m(\u001b[49m\u001b[43mdata\u001b[49m\u001b[43m,\u001b[49m\u001b[43m \u001b[49m\u001b[43mself_instance\u001b[49m\u001b[38;5;241;43m=\u001b[39;49m\u001b[43m__pydantic_self__\u001b[49m\u001b[43m)\u001b[49m\n",
      "\u001b[0;31mValidationError\u001b[0m: 1 validation error for UserSignupSchema\nemail\n  Value error, Email is not available [type=value_error, input_value='test1@test.com', input_type=str]\n    For further information visit https://errors.pydantic.dev/2.4/v/value_error"
     ]
    }
   ],
   "source": [
    "data = UserSignupSchema(email='test1@test.com', password='123', password_confirmation='123')"
   ]
  },
  {
   "cell_type": "code",
   "execution_count": 116,
   "id": "4a020e4f-167d-46fb-9b83-62855dd42d3e",
   "metadata": {},
   "outputs": [
    {
     "data": {
      "text/plain": [
       "<cassandra.cqlengine.query.ModelQuerySet at 0x7f6d82f88fd0>"
      ]
     },
     "execution_count": 116,
     "metadata": {},
     "output_type": "execute_result"
    }
   ],
   "source": [
    "#to work with non-indexed PK in datastax and cassaandra use it in this format:\n",
    "User.objects(user_id='1c82e92e-709d-11ee-b051-e91f02349b61').allow_filtering()"
   ]
  }
 ],
 "metadata": {
  "kernelspec": {
   "display_name": "Python 3 (ipykernel)",
   "language": "python",
   "name": "python3"
  },
  "language_info": {
   "codemirror_mode": {
    "name": "ipython",
    "version": 3
   },
   "file_extension": ".py",
   "mimetype": "text/x-python",
   "name": "python",
   "nbconvert_exporter": "python",
   "pygments_lexer": "ipython3",
   "version": "3.10.12"
  }
 },
 "nbformat": 4,
 "nbformat_minor": 5
}
